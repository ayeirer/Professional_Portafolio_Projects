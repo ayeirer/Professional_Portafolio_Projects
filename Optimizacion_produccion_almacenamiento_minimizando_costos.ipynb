{
  "nbformat": 4,
  "nbformat_minor": 0,
  "metadata": {
    "colab": {
      "name": "Taller_4.ipynb",
      "provenance": [],
      "collapsed_sections": [],
      "include_colab_link": true
    },
    "kernelspec": {
      "name": "python3",
      "display_name": "Python 3"
    },
    "language_info": {
      "name": "python"
    }
  },
  "cells": [
    {
      "cell_type": "markdown",
      "metadata": {
        "id": "view-in-github",
        "colab_type": "text"
      },
      "source": [
        "<a href=\"https://colab.research.google.com/github/ayeirer/Professional_Portafolio_Projects/blob/main/Optimizacion_produccion_almacenamiento_minimizando_costos.ipynb\" target=\"_parent\"><img src=\"https://colab.research.google.com/assets/colab-badge.svg\" alt=\"Open In Colab\"/></a>"
      ]
    },
    {
      "cell_type": "markdown",
      "source": [
        "Una compañía dedicada la fabricación de 2 bebidas liquidas (gicola y Fruty) está considerando unas posibles ubicaciones de sus plantas de producción y una serie de centros de distribución donde se almacenarán sus productos antes de ser transportados a los clientes. De igual manera, debe evaluar el tener la más alta tecnología para el embotellado de las bebidas (carbonatadas y no carbonatadas) en las plantas. Por otro lado, en los centros de distribución también es necesario seleccionar la tecnología más apropiada que garantice un almacenamiento adecuado, dado que las bebidas deben permanecer a una temperatura adecuada para que no se desgasifiquen.\n",
        "\n",
        "\n",
        "\n",
        "i=Plantas\n",
        "j=Centros de distribución\n",
        "l=Tipo de producto (Gicola y Fruty)\n",
        "p=Tipo de tecnologia del embotellado\n",
        "q=Tipo de tecnologia del centro de distribuición\n",
        "K=Clientes\n",
        "\n",
        "\n"
      ],
      "metadata": {
        "id": "Py1xF_-YZpMv"
      }
    },
    {
      "cell_type": "code",
      "source": [
        "!pip install Pulp\n",
        "!pip install openpyxl"
      ],
      "metadata": {
        "id": "YB930GGlZn_H"
      },
      "execution_count": null,
      "outputs": []
    },
    {
      "cell_type": "markdown",
      "source": [
        "CARGUE DE DATOS"
      ],
      "metadata": {
        "id": "Kx0xPbu4ZSBX"
      }
    },
    {
      "cell_type": "code",
      "source": [
        "from pulp import *\n",
        "from pandas import *\n",
        "import numpy\n",
        "from openpyxl import load_workbook\n",
        "import matplotlib.pyplot as plt\n",
        "\n",
        "\n",
        "#Libro de Excel con los datos\n",
        "libro=load_workbook(\"DATOS.xlsx\")\n",
        "hoja=libro[\"Hoja1\"]\n",
        "\n",
        "# definicion de conjuntos \n",
        "I=range(5) #plantas\n",
        "J=range(3)#CD\n",
        "L=range(2)#producto\n",
        "P=range(3)#tecnología_p\n",
        "Q=range(4)#tecnología_cd=\n",
        "K=range(4)#Cliente\n",
        "\n",
        "\n",
        "len_i=len(I)\n",
        "len_j=len(J)\n",
        "len_k=len(K)\n",
        "len_l=len(L)\n",
        "len_p=len(P)\n",
        "len_q=len(Q)\n",
        "len_k=len(K)\n",
        "\n",
        "\n",
        "M=[[0 for i in I] for p in P]\n",
        "print(M)\n",
        "M=[]\n",
        "for p in P:\n",
        "  list1=[hoja.cell(row=p+2,column=2).value for p in range(2+len_i*p,2+len_i*p+len_i)]\n",
        "  print(list1)\n",
        "  M.append(list1)\n",
        "print(M)\n",
        "\n",
        "\n",
        "\n",
        "\n",
        "G=[[0 for i in I] for p in P]\n",
        "print(G)\n",
        "G=[]\n",
        "for p in P:\n",
        "  list1=[hoja.cell(row=p+2,column=7).value for p in range(2+len_i*p,2+len_i*p+len_i)]\n",
        "  print(list1)\n",
        "  G.append(list1)\n",
        "\n",
        "print(G)\n",
        "\n",
        "F=[[0 for j in J] for q in Q]\n",
        "print(F)\n",
        "F=[]\n",
        "for q in Q:\n",
        "  list1=[hoja.cell(row=q+2,column=21).value for q in range(2+len_j*q,2+len_j*q+len_j)]\n",
        "  print(list1)\n",
        "  F.append(list1)\n",
        "\n",
        "print(F)\n",
        "\n",
        "V=[[0 for j in J] for q in Q]\n",
        "print(V)\n",
        "V=[]\n",
        "for q in Q:\n",
        "  list1=[hoja.cell(row=q+2,column=29).value for q in range(2+len_j*q,2+len_j*q+len_j)]\n",
        "  print(list1)\n",
        "  V.append(list1)\n",
        "\n",
        "print(V)\n",
        "\n",
        "\n",
        "\n",
        "R=[[0 for l in L] for p in P]\n",
        "print(R)\n",
        "R=[]\n",
        "for p in P:\n",
        "  list1=[hoja.cell(row=p+2,column=12).value for p in range(2+len_l*p,2+len_l*p+len_l)]\n",
        "  print(list1)\n",
        "  R.append(list1)\n",
        "print(R)\n",
        "\n",
        "S=[[0 for l in L] for q in Q]\n",
        "print(S)\n",
        "S=[]\n",
        "for q in Q:\n",
        "  list1=[hoja.cell(row=q+2,column=25).value for q in range(2+len_l*q,2+len_l*q+len_l)]\n",
        "  print(list1)\n",
        "  S.append(list1)\n",
        "print(S)\n",
        "\n",
        "D=[[0 for k in K] for l in L]\n",
        "print(D)\n",
        "D=[]\n",
        "for l in L:\n",
        "  list1=[hoja.cell(row=l+2,column=17).value for l in range(2+len_k*l,2+len_k*l+len_k)]\n",
        "  print(list1)\n",
        "  D.append(list1)\n",
        "print(D)\n",
        "\n",
        "hoja=libro[\"Hoja2\"]\n",
        "C=[[[[0 for l in L] for i in I] for j in J] for p in P]\n",
        "print(C)\n",
        "\n",
        "for p in P:\n",
        "  for j in J:\n",
        "    for i in I:\n",
        "      for l in L: \n",
        "        C[p][j][i][l]= hoja.cell(row=4+l+i*2+j*10+p*30,column=3).value\n",
        "print(C)\n",
        "\n",
        "T=[[[[0 for l in L] for j in J] for k in K] for q in Q]\n",
        "print(T)\n",
        "\n",
        "for q in Q:\n",
        "  for k in K:\n",
        "    for j in J:\n",
        "      for l in L: \n",
        "        T[q][k][j][l]= hoja.cell(row=4+l+j*2+k*6+q*24,column=10).value\n",
        "\n",
        "print(T)\n"
      ],
      "metadata": {
        "colab": {
          "base_uri": "https://localhost:8080/"
        },
        "id": "Xn0gKhlOJxAF",
        "outputId": "ffaa18f3-2431-465c-e34d-4831dec48b85"
      },
      "execution_count": 52,
      "outputs": [
        {
          "output_type": "stream",
          "name": "stdout",
          "text": [
            "[[0, 0, 0, 0, 0], [0, 0, 0, 0, 0], [0, 0, 0, 0, 0]]\n",
            "[2642, 2611, 2804, 2533, 2687]\n",
            "[2718, 2722, 2607, 2528, 2697]\n",
            "[2967, 2630, 2610, 2932, 2650]\n",
            "[[2642, 2611, 2804, 2533, 2687], [2718, 2722, 2607, 2528, 2697], [2967, 2630, 2610, 2932, 2650]]\n",
            "[[0, 0, 0, 0, 0], [0, 0, 0, 0, 0], [0, 0, 0, 0, 0]]\n",
            "[2830, 3433, 2572, 3499, 3214]\n",
            "[2830, 2655, 3123, 3666, 3229]\n",
            "[3423, 2597, 2603, 3520, 3126]\n",
            "[[2830, 3433, 2572, 3499, 3214], [2830, 2655, 3123, 3666, 3229], [3423, 2597, 2603, 3520, 3126]]\n",
            "[[0, 0, 0], [0, 0, 0], [0, 0, 0], [0, 0, 0]]\n",
            "[4260, 5384, 3781]\n",
            "[4342, 4248, 4662]\n",
            "[4923, 4105, 3845]\n",
            "[4905, 4570, 4196]\n",
            "[[4260, 5384, 3781], [4342, 4248, 4662], [4923, 4105, 3845], [4905, 4570, 4196]]\n",
            "[[0, 0, 0], [0, 0, 0], [0, 0, 0], [0, 0, 0]]\n",
            "[4260, 5384, 3781]\n",
            "[5342, 4248, 4662]\n",
            "[4923, 4105, 3845]\n",
            "[4905, 4570, 4196]\n",
            "[[4260, 5384, 3781], [5342, 4248, 4662], [4923, 4105, 3845], [4905, 4570, 4196]]\n",
            "[[0, 0], [0, 0], [0, 0]]\n",
            "[0.47, 0.53]\n",
            "[0.29, 0.71]\n",
            "[0.84, 0.16]\n",
            "[[0.47, 0.53], [0.29, 0.71], [0.84, 0.16]]\n",
            "[[0, 0], [0, 0], [0, 0], [0, 0]]\n",
            "[0.8, 0.2]\n",
            "[0.24, 0.76]\n",
            "[0.84, 0.16]\n",
            "[0.87, 0.13]\n",
            "[[0.8, 0.2], [0.24, 0.76], [0.84, 0.16], [0.87, 0.13]]\n",
            "[[0, 0, 0, 0], [0, 0, 0, 0]]\n",
            "[1560, 1850, 1913, 1678]\n",
            "[1590, 1872, 1613, 1544]\n",
            "[[1560, 1850, 1913, 1678], [1590, 1872, 1613, 1544]]\n",
            "[[[[0, 0], [0, 0], [0, 0], [0, 0], [0, 0]], [[0, 0], [0, 0], [0, 0], [0, 0], [0, 0]], [[0, 0], [0, 0], [0, 0], [0, 0], [0, 0]]], [[[0, 0], [0, 0], [0, 0], [0, 0], [0, 0]], [[0, 0], [0, 0], [0, 0], [0, 0], [0, 0]], [[0, 0], [0, 0], [0, 0], [0, 0], [0, 0]]], [[[0, 0], [0, 0], [0, 0], [0, 0], [0, 0]], [[0, 0], [0, 0], [0, 0], [0, 0], [0, 0]], [[0, 0], [0, 0], [0, 0], [0, 0], [0, 0]]]]\n",
            "[[[[19, 25], [18, 16], [21, 18], [24, 25], [24, 22]], [[24, 21], [17, 15], [19, 22], [18, 17], [15, 20]], [[21, 24], [15, 21], [17, 19], [17, 23], [16, 23]]], [[[20, 16], [19, 20], [15, 23], [16, 24], [24, 15]], [[15, 20], [19, 25], [21, 15], [24, 25], [25, 22]], [[25, 15], [15, 25], [19, 25], [23, 15], [24, 24]]], [[[18, 19], [19, 20], [18, 24], [22, 19], [25, 19]], [[18, 25], [20, 16], [20, 19], [25, 21], [20, 19]], [[15, 20], [21, 21], [22, 22], [17, 25], [24, 21]]]]\n",
            "[[[[0, 0], [0, 0], [0, 0]], [[0, 0], [0, 0], [0, 0]], [[0, 0], [0, 0], [0, 0]], [[0, 0], [0, 0], [0, 0]]], [[[0, 0], [0, 0], [0, 0]], [[0, 0], [0, 0], [0, 0]], [[0, 0], [0, 0], [0, 0]], [[0, 0], [0, 0], [0, 0]]], [[[0, 0], [0, 0], [0, 0]], [[0, 0], [0, 0], [0, 0]], [[0, 0], [0, 0], [0, 0]], [[0, 0], [0, 0], [0, 0]]], [[[0, 0], [0, 0], [0, 0]], [[0, 0], [0, 0], [0, 0]], [[0, 0], [0, 0], [0, 0]], [[0, 0], [0, 0], [0, 0]]]]\n",
            "[[[[6, 8], [12, 16], [7, 10]], [[7, 10], [18, 7], [14, 8]], [[17, 5], [18, 11], [12, 9]], [[5, 11], [18, 5], [16, 12]]], [[[16, 7], [6, 14], [12, 17]], [[8, 5], [13, 11], [16, 7]], [[10, 12], [16, 13], [10, 7]], [[17, 18], [18, 7], [14, 5]]], [[[14, 15], [18, 18], [5, 11]], [[12, 12], [15, 17], [18, 6]], [[6, 7], [9, 17], [16, 17]], [[13, 16], [18, 9], [9, 6]]], [[[11, 10], [8, 15], [14, 9]], [[8, 14], [10, 11], [16, 15]], [[9, 5], [6, 8], [9, 13]], [[12, 8], [7, 10], [7, 13]]]]\n"
          ]
        }
      ]
    },
    {
      "cell_type": "markdown",
      "source": [
        "# Modelamiento"
      ],
      "metadata": {
        "id": "8nr_Hsz8rtSO"
      }
    },
    {
      "cell_type": "code",
      "source": [
        "\n",
        "# definición del modelo\n",
        "problema_taller = pulp.LpProblem(name=\"TALLER_4\", sense=LpMinimize)\n",
        "\n",
        "# variable de decisión de cantidad de producción del producto i\n",
        "X=LpVariable.dicts(\"X\",((p,j,i,l) for l in L for i in I for j in J for p in P), lowBound=0, cat='Continuos')\n",
        "Y=LpVariable.dicts(\"Y\",((q,k,j,l) for l in L for j in J for k in K for q in Q), lowBound=0, cat='Continuos')\n",
        "A=LpVariable.dicts(\"A\",((p,i) for p in P for i in I),lowBound=0,upBound=1,cat=\"Binary\")\n",
        "B=LpVariable.dicts(\"B\",((q,j) for q in Q for j in J),lowBound=0,upBound=1,cat=\"Binary\")\n",
        "\n",
        "\n",
        "# función objetivo de minimizar costo total\n",
        "problema_taller += lpSum(C[p][j][i][l]*X[p,j,i,l] for l in L for i in I for j in J for p in P)+ lpSum(T[q][k][j][l]*Y[q,k,j,l] for l in L for j in J for k in K for q in Q)+lpSum(A[p,i]*G[p][i] for i in I for p in P )+ lpSum(B[q,j]*F[q][j] for j in J for q in Q)\n",
        "\n",
        "\n",
        "\n",
        "# restricción de Capacidad de producción\n",
        "for i in I:\n",
        "  for p in P:\n",
        "     problema_taller += lpSum(X[p,j,i,l]*R[p][l] for l in L for j in J) <= M[p][i]*A[p,i],(\"producciónX con TEC\",p,\"de Planta\",i,)\n",
        "\n",
        "# restricción de Capacidad de almacenamiento\n",
        "for j in J:\n",
        "  for q in Q:\n",
        "     problema_taller += lpSum(Y[q,k,j,l]*S[p][l] for l in L for k in K) <= V[q][j]*B[q,j],(\"almacenamientoY con TEC\",q,\" en CD\",j,)\n",
        "\n",
        "# restricción de producción igual almcenamiento\n",
        "for l in L:\n",
        "  for j in J:\n",
        "    problema_taller += lpSum(X[p,j,i,l] for p in P for i in I)== lpSum(Y[q,k,j,l]for k in K for q in Q),(\"CD_Prodcuto\",l, \"en planta\",j,)\n",
        "\n",
        "# restricción de cumplimiento de la demanda\n",
        "for k in K:\n",
        "  for l in L:\n",
        "     problema_taller += lpSum(Y[q,k,j,l] for j in J for q in Q) >= D[l][k],(\"prodcuto\",l ,\"del cliente\",k,)\n",
        "\n",
        "# restricción de 1 tipo de tecnología por planta\n",
        "for i in I:\n",
        "    problema_taller += lpSum(A[p,i] for p in P)<=1, (\"Tipo_planta\",i)\n",
        "\n",
        "# restricción de 1 tipo de tecnología por CD\n",
        "for j in J:\n",
        "    problema_taller += lpSum(B[q,j] for q in Q) <=1,(\"Tipo_CD\",j)\n",
        "\n",
        "# status del modelo\n",
        "status=problema_taller.solve()\n",
        "print (\"Status: \",LpStatus[problema_taller.status])\n",
        "print (\"Costo_total=\",value(problema_taller.objective))\n",
        "\n"
      ],
      "metadata": {
        "colab": {
          "base_uri": "https://localhost:8080/"
        },
        "id": "x9wBJsuVdXwf",
        "outputId": "74af296c-c933-4ce3-ea4e-4a24b4ffa32b"
      },
      "execution_count": 49,
      "outputs": [
        {
          "output_type": "stream",
          "name": "stdout",
          "text": [
            "Status:  Optimal\n",
            "Costo_total= 312187.78859999997\n"
          ]
        }
      ]
    },
    {
      "cell_type": "code",
      "source": [
        "# Crear un DataFrame para almacenar los valor de las varaibles de decisión\n",
        "for l in L:\n",
        "  for i in I:\n",
        "    for j in J:\n",
        "      for p in P:\n",
        "        if (X[p,j,i,l].varValue!=0):\n",
        "          print(\"Producto\",l,\"Planta\",i,\"CD\",j,\"Teconología_pl\",p, X[p,j,i,l].varValue)\n",
        "for l in L:\n",
        "  for j in J:\n",
        "    for k in K:\n",
        "      for q in Q:\n",
        "        if (Y[q,k,j,l].varValue!=0):\n",
        "          print(\"Producto\",l,\"CD\",j,\"Cliente\",k,\"Tecnología_cd\",q, Y[q,k,j,l].varValue)\n",
        "\n",
        "for i in I:\n",
        "  for p in P:\n",
        "    if (A[p,i].varValue!=0):\n",
        "      print(\"Planta\",i,\"Tecnología_Planta\",p, A[p,i].varValue)\n",
        "\n",
        "for j in J:\n",
        "  for q in Q:\n",
        "    if (B[q,j].varValue!=0):\n",
        "      print(\"CD\",j,\"Tecnología_CD\",q, B[q,j].varValue)\n",
        "\n"
      ],
      "metadata": {
        "id": "bTncKXfbNDIh",
        "colab": {
          "base_uri": "https://localhost:8080/"
        },
        "outputId": "04115011-5539-4258-86fa-b0e78d0ed8d5"
      },
      "execution_count": 50,
      "outputs": [
        {
          "output_type": "stream",
          "name": "stdout",
          "text": [
            "Producto 0 Planta 0 CD 1 Teconología_pl 1 1913.0\n",
            "Producto 0 Planta 1 CD 2 Teconología_pl 1 1560.0\n",
            "Producto 0 Planta 2 CD 0 Teconología_pl 1 3528.0\n",
            "Producto 1 Planta 0 CD 2 Teconología_pl 1 3046.8028\n",
            "Producto 1 Planta 4 CD 0 Teconología_pl 1 3572.1972\n",
            "Producto 0 CD 0 Cliente 1 Tecnología_cd 0 1850.0\n",
            "Producto 0 CD 0 Cliente 3 Tecnología_cd 0 1678.0\n",
            "Producto 0 CD 1 Cliente 2 Tecnología_cd 3 1913.0\n",
            "Producto 0 CD 2 Cliente 0 Tecnología_cd 2 1560.0\n",
            "Producto 1 CD 0 Cliente 0 Tecnología_cd 0 1590.0\n",
            "Producto 1 CD 0 Cliente 1 Tecnología_cd 0 369.19718\n",
            "Producto 1 CD 0 Cliente 2 Tecnología_cd 0 1613.0\n",
            "Producto 1 CD 2 Cliente 1 Tecnología_cd 2 1502.8028\n",
            "Producto 1 CD 2 Cliente 3 Tecnología_cd 2 1544.0\n",
            "Planta 0 Tecnología_Planta 1 1.0\n",
            "Planta 1 Tecnología_Planta 1 1.0\n",
            "Planta 2 Tecnología_Planta 1 1.0\n",
            "Planta 4 Tecnología_Planta 1 1.0\n",
            "CD 0 Tecnología_CD 0 1.0\n",
            "CD 1 Tecnología_CD 3 1.0\n",
            "CD 2 Tecnología_CD 2 1.0\n"
          ]
        }
      ]
    },
    {
      "cell_type": "markdown",
      "source": [
        "ANÁLISIS DE SENSIBILIDAD"
      ],
      "metadata": {
        "id": "XEkfZxeOZZbv"
      }
    },
    {
      "cell_type": "code",
      "source": [
        "\n",
        "# Crear un diccionario para adicionar precios sombra y holguras\n",
        "s=[{'Nombre': name,'Precio-Sombra':c.pi,\"Holgura\": c.slack} for name,c in problema_taller.constraints.items()]\n",
        "print(DataFrame(s))\n"
      ],
      "metadata": {
        "colab": {
          "base_uri": "https://localhost:8080/"
        },
        "id": "8NPptd2E9aVb",
        "outputId": "82bd22c5-ca1c-43dd-e5ab-5a7ab6a0caf0"
      },
      "execution_count": 51,
      "outputs": [
        {
          "output_type": "stream",
          "name": "stdout",
          "text": [
            "                                         Nombre  Precio-Sombra       Holgura\n",
            "0    ('producciónX_con_TEC',_0,_'de_Planta',_0)       0.000000 -0.000000e+00\n",
            "1    ('producciónX_con_TEC',_1,_'de_Planta',_0)      -5.633803 -0.000000e+00\n",
            "2    ('producciónX_con_TEC',_2,_'de_Planta',_0)       0.000000 -0.000000e+00\n",
            "3    ('producciónX_con_TEC',_0,_'de_Planta',_1)       0.000000 -0.000000e+00\n",
            "4    ('producciónX_con_TEC',_1,_'de_Planta',_1)       0.000000  2.269600e+03\n",
            "5    ('producciónX_con_TEC',_2,_'de_Planta',_1)       0.000000 -0.000000e+00\n",
            "6    ('producciónX_con_TEC',_0,_'de_Planta',_2)       0.000000 -0.000000e+00\n",
            "7    ('producciónX_con_TEC',_1,_'de_Planta',_2)       0.000000  1.583880e+03\n",
            "8    ('producciónX_con_TEC',_2,_'de_Planta',_2)       0.000000 -0.000000e+00\n",
            "9    ('producciónX_con_TEC',_0,_'de_Planta',_3)       0.000000 -0.000000e+00\n",
            "10   ('producciónX_con_TEC',_1,_'de_Planta',_3)      -5.633803 -0.000000e+00\n",
            "11   ('producciónX_con_TEC',_2,_'de_Planta',_3)       0.000000 -0.000000e+00\n",
            "12   ('producciónX_con_TEC',_0,_'de_Planta',_4)      -3.476176 -0.000000e+00\n",
            "13   ('producciónX_con_TEC',_1,_'de_Planta',_4)       0.000000  1.607400e+02\n",
            "14   ('producciónX_con_TEC',_2,_'de_Planta',_4)       0.000000 -0.000000e+00\n",
            "15  ('almacenamientoY_con_TEC',_0,_'_en_CD',_0)       0.000000  7.249284e+02\n",
            "16  ('almacenamientoY_con_TEC',_1,_'_en_CD',_0)     -31.250000 -0.000000e+00\n",
            "17  ('almacenamientoY_con_TEC',_2,_'_en_CD',_0)      -1.945003 -0.000000e+00\n",
            "18  ('almacenamientoY_con_TEC',_3,_'_en_CD',_0)     -12.500000 -0.000000e+00\n",
            "19  ('almacenamientoY_con_TEC',_0,_'_en_CD',_1)     -31.250000 -0.000000e+00\n",
            "20  ('almacenamientoY_con_TEC',_1,_'_en_CD',_1)     -18.750000 -0.000000e+00\n",
            "21  ('almacenamientoY_con_TEC',_2,_'_en_CD',_1)      -6.250000 -0.000000e+00\n",
            "22  ('almacenamientoY_con_TEC',_3,_'_en_CD',_1)       0.000000  2.963080e+03\n",
            "23  ('almacenamientoY_con_TEC',_0,_'_en_CD',_2)       0.000000 -0.000000e+00\n",
            "24  ('almacenamientoY_con_TEC',_1,_'_en_CD',_2)      -6.250000 -0.000000e+00\n",
            "25  ('almacenamientoY_con_TEC',_2,_'_en_CD',_2)       0.000000  2.047111e+03\n",
            "26  ('almacenamientoY_con_TEC',_3,_'_en_CD',_2)       0.000000 -0.000000e+00\n",
            "27           ('CD_Prodcuto',_0,_'en_planta',_0)      15.000000  2.273737e-13\n",
            "28           ('CD_Prodcuto',_0,_'en_planta',_1)      16.633803 -2.273737e-13\n",
            "29           ('CD_Prodcuto',_0,_'en_planta',_2)      15.000000 -0.000000e+00\n",
            "30           ('CD_Prodcuto',_1,_'en_planta',_0)      15.000000  2.273737e-13\n",
            "31           ('CD_Prodcuto',_1,_'en_planta',_1)      15.000000 -0.000000e+00\n",
            "32           ('CD_Prodcuto',_1,_'en_planta',_2)      19.000000 -2.273737e-13\n",
            "33            ('prodcuto',_0,_'del_cliente',_0)      20.000000 -0.000000e+00\n",
            "34            ('prodcuto',_1,_'del_cliente',_0)      23.000000 -0.000000e+00\n",
            "35            ('prodcuto',_0,_'del_cliente',_1)      22.000000 -0.000000e+00\n",
            "36            ('prodcuto',_1,_'del_cliente',_1)      25.000000 -0.000000e+00\n",
            "37            ('prodcuto',_0,_'del_cliente',_2)      22.633803 -0.000000e+00\n",
            "38            ('prodcuto',_1,_'del_cliente',_2)      20.000000 -0.000000e+00\n",
            "39            ('prodcuto',_0,_'del_cliente',_3)      20.000000 -0.000000e+00\n",
            "40            ('prodcuto',_1,_'del_cliente',_3)      25.000000 -0.000000e+00\n",
            "41                           ('Tipo_planta',_0)       0.000000 -0.000000e+00\n",
            "42                           ('Tipo_planta',_1)       0.000000 -0.000000e+00\n",
            "43                           ('Tipo_planta',_2)       0.000000 -0.000000e+00\n",
            "44                           ('Tipo_planta',_3)       0.000000  1.000000e+00\n",
            "45                           ('Tipo_planta',_4)       0.000000 -0.000000e+00\n",
            "46                               ('Tipo_CD',_0)       0.000000 -0.000000e+00\n",
            "47                               ('Tipo_CD',_1)       0.000000 -0.000000e+00\n",
            "48                               ('Tipo_CD',_2)       0.000000 -0.000000e+00\n"
          ]
        }
      ]
    }
  ]
}